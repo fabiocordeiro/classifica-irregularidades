{
 "cells": [
  {
   "cell_type": "code",
   "execution_count": 1,
   "id": "dGfJfeJv35Kv",
   "metadata": {
    "colab": {
     "base_uri": "https://localhost:8080/"
    },
    "executionInfo": {
     "elapsed": 2893,
     "status": "ok",
     "timestamp": 1675097614830,
     "user": {
      "displayName": "Fábio Cordeiro",
      "userId": "00933077666862327455"
     },
     "user_tz": 180
    },
    "id": "dGfJfeJv35Kv",
    "outputId": "693c9ce3-7174-4a33-b936-3936b3c49e4e"
   },
   "outputs": [],
   "source": [
    "data_path = \"../data/70-15-15\"\n",
    "model_path = \"../models\""
   ]
  },
  {
   "cell_type": "code",
   "execution_count": 2,
   "id": "0oK9W-U39Yd7",
   "metadata": {
    "colab": {
     "base_uri": "https://localhost:8080/"
    },
    "executionInfo": {
     "elapsed": 4568,
     "status": "ok",
     "timestamp": 1675097619392,
     "user": {
      "displayName": "Fábio Cordeiro",
      "userId": "00933077666862327455"
     },
     "user_tz": 180
    },
    "id": "0oK9W-U39Yd7",
    "outputId": "4d1ead00-ff1c-44d1-e2b3-fdfcf6b96cf2"
   },
   "outputs": [
    {
     "name": "stdout",
     "output_type": "stream",
     "text": [
      "Requirement already satisfied: tensorflow in /opt/conda/lib/python3.9/site-packages (2.11.0)\n",
      "Requirement already satisfied: astunparse>=1.6.0 in /opt/conda/lib/python3.9/site-packages (from tensorflow) (1.6.3)\n",
      "Requirement already satisfied: flatbuffers>=2.0 in /opt/conda/lib/python3.9/site-packages (from tensorflow) (23.3.3)\n",
      "Requirement already satisfied: termcolor>=1.1.0 in /opt/conda/lib/python3.9/site-packages (from tensorflow) (1.1.0)\n",
      "Requirement already satisfied: six>=1.12.0 in /opt/conda/lib/python3.9/site-packages (from tensorflow) (1.15.0)\n",
      "Requirement already satisfied: grpcio<2.0,>=1.24.3 in /opt/conda/lib/python3.9/site-packages (from tensorflow) (1.43.0)\n",
      "Requirement already satisfied: protobuf<3.20,>=3.9.2 in /opt/conda/lib/python3.9/site-packages (from tensorflow) (3.19.3)\n",
      "Requirement already satisfied: h5py>=2.9.0 in /opt/conda/lib/python3.9/site-packages (from tensorflow) (3.1.0)\n",
      "Requirement already satisfied: setuptools in /opt/conda/lib/python3.9/site-packages (from tensorflow) (59.8.0)\n",
      "Requirement already satisfied: gast<=0.4.0,>=0.2.1 in /opt/conda/lib/python3.9/site-packages (from tensorflow) (0.4.0)\n",
      "Requirement already satisfied: google-pasta>=0.1.1 in /opt/conda/lib/python3.9/site-packages (from tensorflow) (0.2.0)\n",
      "Requirement already satisfied: opt-einsum>=2.3.2 in /opt/conda/lib/python3.9/site-packages (from tensorflow) (3.3.0)\n",
      "Requirement already satisfied: numpy>=1.20 in /opt/conda/lib/python3.9/site-packages (from tensorflow) (1.24.2)\n",
      "Requirement already satisfied: tensorboard<2.12,>=2.11 in /opt/conda/lib/python3.9/site-packages (from tensorflow) (2.11.2)\n",
      "Requirement already satisfied: packaging in /opt/conda/lib/python3.9/site-packages (from tensorflow) (21.3)\n",
      "Requirement already satisfied: tensorflow-estimator<2.12,>=2.11.0 in /opt/conda/lib/python3.9/site-packages (from tensorflow) (2.11.0)\n",
      "Requirement already satisfied: tensorflow-io-gcs-filesystem>=0.23.1 in /opt/conda/lib/python3.9/site-packages (from tensorflow) (0.31.0)\n",
      "Requirement already satisfied: wrapt>=1.11.0 in /opt/conda/lib/python3.9/site-packages (from tensorflow) (1.12.1)\n",
      "Requirement already satisfied: keras<2.12,>=2.11.0 in /opt/conda/lib/python3.9/site-packages (from tensorflow) (2.11.0)\n",
      "Requirement already satisfied: absl-py>=1.0.0 in /opt/conda/lib/python3.9/site-packages (from tensorflow) (1.4.0)\n",
      "Requirement already satisfied: libclang>=13.0.0 in /opt/conda/lib/python3.9/site-packages (from tensorflow) (15.0.6.1)\n",
      "Requirement already satisfied: typing-extensions>=3.6.6 in /opt/conda/lib/python3.9/site-packages (from tensorflow) (3.7.4.3)\n",
      "Requirement already satisfied: wheel<1.0,>=0.23.0 in /opt/conda/lib/python3.9/site-packages (from astunparse>=1.6.0->tensorflow) (0.37.1)\n",
      "Requirement already satisfied: tensorboard-data-server<0.7.0,>=0.6.0 in /opt/conda/lib/python3.9/site-packages (from tensorboard<2.12,>=2.11->tensorflow) (0.6.1)\n",
      "Requirement already satisfied: markdown>=2.6.8 in /opt/conda/lib/python3.9/site-packages (from tensorboard<2.12,>=2.11->tensorflow) (3.3.6)\n",
      "Requirement already satisfied: google-auth<3,>=1.6.3 in /opt/conda/lib/python3.9/site-packages (from tensorboard<2.12,>=2.11->tensorflow) (1.35.0)\n",
      "Requirement already satisfied: tensorboard-plugin-wit>=1.6.0 in /opt/conda/lib/python3.9/site-packages (from tensorboard<2.12,>=2.11->tensorflow) (1.8.1)\n",
      "Requirement already satisfied: google-auth-oauthlib<0.5,>=0.4.1 in /opt/conda/lib/python3.9/site-packages (from tensorboard<2.12,>=2.11->tensorflow) (0.4.6)\n",
      "Requirement already satisfied: requests<3,>=2.21.0 in /opt/conda/lib/python3.9/site-packages (from tensorboard<2.12,>=2.11->tensorflow) (2.27.1)\n",
      "Requirement already satisfied: werkzeug>=1.0.1 in /opt/conda/lib/python3.9/site-packages (from tensorboard<2.12,>=2.11->tensorflow) (2.0.2)\n",
      "Requirement already satisfied: pyparsing!=3.0.5,>=2.0.2 in /opt/conda/lib/python3.9/site-packages (from packaging->tensorflow) (3.0.7)\n",
      "Requirement already satisfied: pyasn1-modules>=0.2.1 in /opt/conda/lib/python3.9/site-packages (from google-auth<3,>=1.6.3->tensorboard<2.12,>=2.11->tensorflow) (0.2.8)\n",
      "Requirement already satisfied: rsa<5,>=3.1.4 in /opt/conda/lib/python3.9/site-packages (from google-auth<3,>=1.6.3->tensorboard<2.12,>=2.11->tensorflow) (4.8)\n",
      "Requirement already satisfied: cachetools<5.0,>=2.0.0 in /opt/conda/lib/python3.9/site-packages (from google-auth<3,>=1.6.3->tensorboard<2.12,>=2.11->tensorflow) (4.2.4)\n",
      "Requirement already satisfied: requests-oauthlib>=0.7.0 in /opt/conda/lib/python3.9/site-packages (from google-auth-oauthlib<0.5,>=0.4.1->tensorboard<2.12,>=2.11->tensorflow) (1.3.1)\n",
      "Requirement already satisfied: importlib-metadata>=4.4 in /opt/conda/lib/python3.9/site-packages (from markdown>=2.6.8->tensorboard<2.12,>=2.11->tensorflow) (4.10.1)\n",
      "Requirement already satisfied: certifi>=2017.4.17 in /opt/conda/lib/python3.9/site-packages (from requests<3,>=2.21.0->tensorboard<2.12,>=2.11->tensorflow) (2021.10.8)\n",
      "Requirement already satisfied: charset-normalizer~=2.0.0 in /opt/conda/lib/python3.9/site-packages (from requests<3,>=2.21.0->tensorboard<2.12,>=2.11->tensorflow) (2.0.10)\n",
      "Requirement already satisfied: urllib3<1.27,>=1.21.1 in /opt/conda/lib/python3.9/site-packages (from requests<3,>=2.21.0->tensorboard<2.12,>=2.11->tensorflow) (1.26.8)\n",
      "Requirement already satisfied: idna<4,>=2.5 in /opt/conda/lib/python3.9/site-packages (from requests<3,>=2.21.0->tensorboard<2.12,>=2.11->tensorflow) (3.3)\n",
      "Requirement already satisfied: zipp>=0.5 in /opt/conda/lib/python3.9/site-packages (from importlib-metadata>=4.4->markdown>=2.6.8->tensorboard<2.12,>=2.11->tensorflow) (3.7.0)\n",
      "Requirement already satisfied: pyasn1<0.5.0,>=0.4.6 in /opt/conda/lib/python3.9/site-packages (from pyasn1-modules>=0.2.1->google-auth<3,>=1.6.3->tensorboard<2.12,>=2.11->tensorflow) (0.4.8)\n",
      "Requirement already satisfied: oauthlib>=3.0.0 in /opt/conda/lib/python3.9/site-packages (from requests-oauthlib>=0.7.0->google-auth-oauthlib<0.5,>=0.4.1->tensorboard<2.12,>=2.11->tensorflow) (3.2.0)\n"
     ]
    }
   ],
   "source": [
    "!pip install tensorflow\n",
    "#!pip install datasets"
   ]
  },
  {
   "cell_type": "code",
   "execution_count": 3,
   "id": "dbd010dd-8f29-48b1-9e89-2cab82e6ea60",
   "metadata": {
    "executionInfo": {
     "elapsed": 1080,
     "status": "ok",
     "timestamp": 1675097620466,
     "user": {
      "displayName": "Fábio Cordeiro",
      "userId": "00933077666862327455"
     },
     "user_tz": 180
    },
    "id": "dbd010dd-8f29-48b1-9e89-2cab82e6ea60"
   },
   "outputs": [],
   "source": [
    "from sklearn.feature_extraction.text import TfidfVectorizer\n",
    "from sklearn.model_selection import KFold\n",
    "\n",
    "import numpy as np\n",
    "import pandas as pd\n",
    "\n"
   ]
  },
  {
   "cell_type": "code",
   "execution_count": 4,
   "id": "85187dff-a49f-4dab-acc5-0479a7694cb8",
   "metadata": {
    "executionInfo": {
     "elapsed": 682,
     "status": "ok",
     "timestamp": 1675097621145,
     "user": {
      "displayName": "Fábio Cordeiro",
      "userId": "00933077666862327455"
     },
     "user_tz": 180
    },
    "id": "85187dff-a49f-4dab-acc5-0479a7694cb8"
   },
   "outputs": [],
   "source": [
    "treino=pd.read_csv(data_path+'/comunic_treino.csv', encoding='utf-8')\n",
    "teste=pd.read_csv(data_path+'/comunic_teste.csv', encoding='utf-8')\n",
    "validacao=pd.read_csv(data_path+'/comunic_valid.csv', encoding='utf-8')"
   ]
  },
  {
   "cell_type": "code",
   "execution_count": 5,
   "id": "gFFnKgbUdaY0",
   "metadata": {
    "executionInfo": {
     "elapsed": 8,
     "status": "ok",
     "timestamp": 1675097621146,
     "user": {
      "displayName": "Fábio Cordeiro",
      "userId": "00933077666862327455"
     },
     "user_tz": 180
    },
    "id": "gFFnKgbUdaY0"
   },
   "outputs": [],
   "source": [
    "def TFIDF(X_train, X_test,MAX_NB_WORDS=4000):\n",
    "    vectorizer_x = TfidfVectorizer(max_features=MAX_NB_WORDS)\n",
    "    X_train = vectorizer_x.fit_transform(X_train).toarray()\n",
    "    X_test = vectorizer_x.transform(X_test).toarray()\n",
    "    print(\"tf-idf with\",str(np.array(X_train).shape[1]),\"features\")\n",
    "    return (X_train,X_test)"
   ]
  },
  {
   "cell_type": "code",
   "execution_count": 6,
   "id": "734d7b64-95e4-4fc0-840f-f4f66e0ce340",
   "metadata": {
    "executionInfo": {
     "elapsed": 7,
     "status": "ok",
     "timestamp": 1675097621146,
     "user": {
      "displayName": "Fábio Cordeiro",
      "userId": "00933077666862327455"
     },
     "user_tz": 180
    },
    "id": "734d7b64-95e4-4fc0-840f-f4f66e0ce340"
   },
   "outputs": [],
   "source": [
    "def make_tfidf(coluna):\n",
    "    vectorizer = TfidfVectorizer()\n",
    "    vectors = np.asarray(vectorizer.fit_transform(coluna).todense())\n",
    "    return vectors"
   ]
  },
  {
   "cell_type": "code",
   "execution_count": 7,
   "id": "01f1e27a-ace3-48f6-a348-9466c2acfbd4",
   "metadata": {
    "colab": {
     "base_uri": "https://localhost:8080/"
    },
    "executionInfo": {
     "elapsed": 8,
     "status": "ok",
     "timestamp": 1675097621147,
     "user": {
      "displayName": "Fábio Cordeiro",
      "userId": "00933077666862327455"
     },
     "user_tz": 180
    },
    "id": "01f1e27a-ace3-48f6-a348-9466c2acfbd4",
    "outputId": "ca87d1ac-ab75-43b8-b478-0c9a7f521efd"
   },
   "outputs": [
    {
     "name": "stdout",
     "output_type": "stream",
     "text": [
      "tf-idf with 4000 features\n"
     ]
    }
   ],
   "source": [
    "X_train, X_test = TFIDF(treino[\"text\"], teste[\"text\"])\n",
    "Y_train=treino.label\n",
    "Y_test=teste.label\n",
    "X_val=make_tfidf(validacao.text)\n",
    "Y_val=validacao.label"
   ]
  },
  {
   "cell_type": "markdown",
   "id": "6932765d-6b4a-45bf-97c3-c7751a017724",
   "metadata": {
    "id": "6932765d-6b4a-45bf-97c3-c7751a017724"
   },
   "source": [
    "# Definição do modelo de classificacao DNN"
   ]
  },
  {
   "cell_type": "code",
   "execution_count": 8,
   "id": "PuKm4srVFMLL",
   "metadata": {
    "executionInfo": {
     "elapsed": 2489,
     "status": "ok",
     "timestamp": 1675097623630,
     "user": {
      "displayName": "Fábio Cordeiro",
      "userId": "00933077666862327455"
     },
     "user_tz": 180
    },
    "id": "PuKm4srVFMLL"
   },
   "outputs": [
    {
     "name": "stderr",
     "output_type": "stream",
     "text": [
      "2023-03-09 13:45:46.568690: I tensorflow/core/platform/cpu_feature_guard.cc:193] This TensorFlow binary is optimized with oneAPI Deep Neural Network Library (oneDNN) to use the following CPU instructions in performance-critical operations:  AVX2 FMA\n",
      "To enable them in other operations, rebuild TensorFlow with the appropriate compiler flags.\n",
      "2023-03-09 13:45:47.533735: W tensorflow/compiler/xla/stream_executor/platform/default/dso_loader.cc:64] Could not load dynamic library 'libnvinfer.so.7'; dlerror: libnvinfer.so.7: cannot open shared object file: No such file or directory; LD_LIBRARY_PATH: /usr/local/nvidia/lib:/usr/local/nvidia/lib64\n",
      "2023-03-09 13:45:47.533804: W tensorflow/compiler/xla/stream_executor/platform/default/dso_loader.cc:64] Could not load dynamic library 'libnvinfer_plugin.so.7'; dlerror: libnvinfer_plugin.so.7: cannot open shared object file: No such file or directory; LD_LIBRARY_PATH: /usr/local/nvidia/lib:/usr/local/nvidia/lib64\n",
      "2023-03-09 13:45:47.533811: W tensorflow/compiler/tf2tensorrt/utils/py_utils.cc:38] TF-TRT Warning: Cannot dlopen some TensorRT libraries. If you would like to use Nvidia GPU with TensorRT, please make sure the missing libraries mentioned above are installed properly.\n"
     ]
    }
   ],
   "source": [
    "from tensorflow.python.keras import models\n",
    "from tensorflow.python.keras import layers\n",
    "from tensorflow.python.keras import losses\n",
    "from tensorflow.python.keras import optimizers\n",
    "\n",
    "#from tensorflow.python.keras.callbacks import EarlyStopping\n",
    "'''\n",
    "from tensorflow.keras.callbacks import EarlyStopping\n",
    "early_stopping =  EarlyStopping(\n",
    "    monitor='val_accuracy', \n",
    "    patience=4\n",
    ")\n",
    "'''\n",
    "def Build_Model_DNN_Text(shape, nClasses, dropout=0.4):\n",
    "    model = models.Sequential()\n",
    "    model.add(layers.Dense(4000,input_dim=shape,activation='relu'))\n",
    "    model.add(layers.Dense(shape,activation='relu'))\n",
    "    model.add(layers.Dropout(dropout))\n",
    "    model.add(layers.Dense(1024,activation='relu'))\n",
    "    model.add(layers.Dropout(dropout))\n",
    "    model.add(layers.Dense(128,activation='relu'))\n",
    "    model.add(layers.Dropout(dropout))    \n",
    "    model.add(layers.Dense(1024,activation='relu'))\n",
    "    model.add(layers.Dropout(dropout))    \n",
    "    model.add(layers.Dense(nClasses, activation='sigmoid'))\n",
    "    model.compile(loss='sparse_categorical_crossentropy',\n",
    "                  optimizer='Adam',\n",
    "                  metrics=['accuracy'])\n",
    "    model.summary()\n",
    "    return model"
   ]
  },
  {
   "cell_type": "code",
   "execution_count": 9,
   "id": "Gc8dcyskKuJ3",
   "metadata": {
    "colab": {
     "base_uri": "https://localhost:8080/"
    },
    "executionInfo": {
     "elapsed": 132261,
     "status": "ok",
     "timestamp": 1675097767282,
     "user": {
      "displayName": "Fábio Cordeiro",
      "userId": "00933077666862327455"
     },
     "user_tz": 180
    },
    "id": "Gc8dcyskKuJ3",
    "outputId": "d794d2cd-52ac-4e6d-9c34-6e523e1163f9"
   },
   "outputs": [
    {
     "name": "stderr",
     "output_type": "stream",
     "text": [
      "2023-03-09 13:45:48.369155: I tensorflow/compiler/xla/stream_executor/cuda/cuda_gpu_executor.cc:981] successful NUMA node read from SysFS had negative value (-1), but there must be at least one NUMA node, so returning NUMA node zero\n",
      "2023-03-09 13:45:48.373586: I tensorflow/compiler/xla/stream_executor/cuda/cuda_gpu_executor.cc:981] successful NUMA node read from SysFS had negative value (-1), but there must be at least one NUMA node, so returning NUMA node zero\n",
      "2023-03-09 13:45:48.373706: I tensorflow/compiler/xla/stream_executor/cuda/cuda_gpu_executor.cc:981] successful NUMA node read from SysFS had negative value (-1), but there must be at least one NUMA node, so returning NUMA node zero\n",
      "2023-03-09 13:45:48.374154: I tensorflow/core/platform/cpu_feature_guard.cc:193] This TensorFlow binary is optimized with oneAPI Deep Neural Network Library (oneDNN) to use the following CPU instructions in performance-critical operations:  AVX2 FMA\n",
      "To enable them in other operations, rebuild TensorFlow with the appropriate compiler flags.\n",
      "2023-03-09 13:45:48.374646: I tensorflow/compiler/xla/stream_executor/cuda/cuda_gpu_executor.cc:981] successful NUMA node read from SysFS had negative value (-1), but there must be at least one NUMA node, so returning NUMA node zero\n",
      "2023-03-09 13:45:48.374778: I tensorflow/compiler/xla/stream_executor/cuda/cuda_gpu_executor.cc:981] successful NUMA node read from SysFS had negative value (-1), but there must be at least one NUMA node, so returning NUMA node zero\n",
      "2023-03-09 13:45:48.374887: I tensorflow/compiler/xla/stream_executor/cuda/cuda_gpu_executor.cc:981] successful NUMA node read from SysFS had negative value (-1), but there must be at least one NUMA node, so returning NUMA node zero\n",
      "2023-03-09 13:45:48.735970: I tensorflow/compiler/xla/stream_executor/cuda/cuda_gpu_executor.cc:981] successful NUMA node read from SysFS had negative value (-1), but there must be at least one NUMA node, so returning NUMA node zero\n",
      "2023-03-09 13:45:48.736137: I tensorflow/compiler/xla/stream_executor/cuda/cuda_gpu_executor.cc:981] successful NUMA node read from SysFS had negative value (-1), but there must be at least one NUMA node, so returning NUMA node zero\n",
      "2023-03-09 13:45:48.736251: I tensorflow/compiler/xla/stream_executor/cuda/cuda_gpu_executor.cc:981] successful NUMA node read from SysFS had negative value (-1), but there must be at least one NUMA node, so returning NUMA node zero\n",
      "2023-03-09 13:45:48.736343: I tensorflow/core/common_runtime/gpu/gpu_device.cc:1613] Created device /job:localhost/replica:0/task:0/device:GPU:0 with 385 MB memory:  -> device: 0, name: Quadro RTX 4000, pci bus id: 0000:01:00.0, compute capability: 7.5\n"
     ]
    },
    {
     "name": "stdout",
     "output_type": "stream",
     "text": [
      "Model: \"sequential\"\n",
      "_________________________________________________________________\n",
      "Layer (type)                 Output Shape              Param #   \n",
      "=================================================================\n",
      "dense (Dense)                (None, 4000)              16004000  \n",
      "_________________________________________________________________\n",
      "dense_1 (Dense)              (None, 4000)              16004000  \n",
      "_________________________________________________________________\n",
      "dropout (Dropout)            (None, 4000)              0         \n",
      "_________________________________________________________________\n",
      "dense_2 (Dense)              (None, 1024)              4097024   \n",
      "_________________________________________________________________\n",
      "dropout_1 (Dropout)          (None, 1024)              0         \n",
      "_________________________________________________________________\n",
      "dense_3 (Dense)              (None, 128)               131200    \n",
      "_________________________________________________________________\n",
      "dropout_2 (Dropout)          (None, 128)               0         \n",
      "_________________________________________________________________\n",
      "dense_4 (Dense)              (None, 1024)              132096    \n",
      "_________________________________________________________________\n",
      "dropout_3 (Dropout)          (None, 1024)              0         \n",
      "_________________________________________________________________\n",
      "dense_5 (Dense)              (None, 13)                13325     \n",
      "=================================================================\n",
      "Total params: 36,381,645\n",
      "Trainable params: 36,381,645\n",
      "Non-trainable params: 0\n",
      "_________________________________________________________________\n",
      "Epoch 1/50\n"
     ]
    },
    {
     "name": "stderr",
     "output_type": "stream",
     "text": [
      "2023-03-09 13:45:58.976339: W tensorflow/tsl/framework/bfc_allocator.cc:479] Allocator (GPU_0_bfc) ran out of memory trying to allocate 15.62MiB (rounded to 16384000)requested by op Fill\n",
      "If the cause is memory fragmentation maybe the environment variable 'TF_GPU_ALLOCATOR=cuda_malloc_async' will improve the situation. \n",
      "Current allocation summary follows.\n",
      "Current allocation summary follows.\n",
      "2023-03-09 13:45:58.976436: I tensorflow/tsl/framework/bfc_allocator.cc:1034] BFCAllocator dump for GPU_0_bfc\n",
      "2023-03-09 13:45:58.976471: I tensorflow/tsl/framework/bfc_allocator.cc:1041] Bin (256): \tTotal Chunks: 22, Chunks in use: 22. 5.5KiB allocated for chunks. 5.5KiB in use in bin. 156B client-requested in use in bin.\n",
      "2023-03-09 13:45:58.976495: I tensorflow/tsl/framework/bfc_allocator.cc:1041] Bin (512): \tTotal Chunks: 1, Chunks in use: 1. 512B allocated for chunks. 512B in use in bin. 512B client-requested in use in bin.\n",
      "2023-03-09 13:45:58.976520: I tensorflow/tsl/framework/bfc_allocator.cc:1041] Bin (1024): \tTotal Chunks: 1, Chunks in use: 1. 1.2KiB allocated for chunks. 1.2KiB in use in bin. 1.0KiB client-requested in use in bin.\n",
      "2023-03-09 13:45:58.976542: I tensorflow/tsl/framework/bfc_allocator.cc:1041] Bin (2048): \tTotal Chunks: 0, Chunks in use: 0. 0B allocated for chunks. 0B in use in bin. 0B client-requested in use in bin.\n",
      "2023-03-09 13:45:58.976565: I tensorflow/tsl/framework/bfc_allocator.cc:1041] Bin (4096): \tTotal Chunks: 2, Chunks in use: 2. 8.0KiB allocated for chunks. 8.0KiB in use in bin. 8.0KiB client-requested in use in bin.\n",
      "2023-03-09 13:45:58.976589: I tensorflow/tsl/framework/bfc_allocator.cc:1041] Bin (8192): \tTotal Chunks: 5, Chunks in use: 5. 72.0KiB allocated for chunks. 72.0KiB in use in bin. 71.3KiB client-requested in use in bin.\n",
      "2023-03-09 13:45:58.976611: I tensorflow/tsl/framework/bfc_allocator.cc:1041] Bin (16384): \tTotal Chunks: 0, Chunks in use: 0. 0B allocated for chunks. 0B in use in bin. 0B client-requested in use in bin.\n",
      "2023-03-09 13:45:58.976636: I tensorflow/tsl/framework/bfc_allocator.cc:1041] Bin (32768): \tTotal Chunks: 2, Chunks in use: 1. 112.8KiB allocated for chunks. 52.0KiB in use in bin. 52.0KiB client-requested in use in bin.\n",
      "2023-03-09 13:45:58.976657: I tensorflow/tsl/framework/bfc_allocator.cc:1041] Bin (65536): \tTotal Chunks: 0, Chunks in use: 0. 0B allocated for chunks. 0B in use in bin. 0B client-requested in use in bin.\n",
      "2023-03-09 13:45:58.976678: I tensorflow/tsl/framework/bfc_allocator.cc:1041] Bin (131072): \tTotal Chunks: 0, Chunks in use: 0. 0B allocated for chunks. 0B in use in bin. 0B client-requested in use in bin.\n",
      "2023-03-09 13:45:58.976702: I tensorflow/tsl/framework/bfc_allocator.cc:1041] Bin (262144): \tTotal Chunks: 1, Chunks in use: 0. 351.5KiB allocated for chunks. 0B in use in bin. 0B client-requested in use in bin.\n",
      "2023-03-09 13:45:58.976725: I tensorflow/tsl/framework/bfc_allocator.cc:1041] Bin (524288): \tTotal Chunks: 3, Chunks in use: 2. 2.00MiB allocated for chunks. 1.00MiB in use in bin. 1.00MiB client-requested in use in bin.\n",
      "2023-03-09 13:45:58.976746: I tensorflow/tsl/framework/bfc_allocator.cc:1041] Bin (1048576): \tTotal Chunks: 0, Chunks in use: 0. 0B allocated for chunks. 0B in use in bin. 0B client-requested in use in bin.\n",
      "2023-03-09 13:45:58.976765: I tensorflow/tsl/framework/bfc_allocator.cc:1041] Bin (2097152): \tTotal Chunks: 0, Chunks in use: 0. 0B allocated for chunks. 0B in use in bin. 0B client-requested in use in bin.\n",
      "2023-03-09 13:45:58.976786: I tensorflow/tsl/framework/bfc_allocator.cc:1041] Bin (4194304): \tTotal Chunks: 0, Chunks in use: 0. 0B allocated for chunks. 0B in use in bin. 0B client-requested in use in bin.\n",
      "2023-03-09 13:45:58.976807: I tensorflow/tsl/framework/bfc_allocator.cc:1041] Bin (8388608): \tTotal Chunks: 0, Chunks in use: 0. 0B allocated for chunks. 0B in use in bin. 0B client-requested in use in bin.\n",
      "2023-03-09 13:45:58.976832: I tensorflow/tsl/framework/bfc_allocator.cc:1041] Bin (16777216): \tTotal Chunks: 2, Chunks in use: 2. 58.51MiB allocated for chunks. 58.51MiB in use in bin. 32.88MiB client-requested in use in bin.\n",
      "2023-03-09 13:45:58.976857: I tensorflow/tsl/framework/bfc_allocator.cc:1041] Bin (33554432): \tTotal Chunks: 2, Chunks in use: 2. 122.07MiB allocated for chunks. 122.07MiB in use in bin. 122.07MiB client-requested in use in bin.\n",
      "2023-03-09 13:45:58.976885: I tensorflow/tsl/framework/bfc_allocator.cc:1041] Bin (67108864): \tTotal Chunks: 2, Chunks in use: 2. 202.44MiB allocated for chunks. 202.44MiB in use in bin. 122.07MiB client-requested in use in bin.\n",
      "2023-03-09 13:45:58.976907: I tensorflow/tsl/framework/bfc_allocator.cc:1041] Bin (134217728): \tTotal Chunks: 0, Chunks in use: 0. 0B allocated for chunks. 0B in use in bin. 0B client-requested in use in bin.\n",
      "2023-03-09 13:45:58.976936: I tensorflow/tsl/framework/bfc_allocator.cc:1041] Bin (268435456): \tTotal Chunks: 0, Chunks in use: 0. 0B allocated for chunks. 0B in use in bin. 0B client-requested in use in bin.\n",
      "2023-03-09 13:45:58.976959: I tensorflow/tsl/framework/bfc_allocator.cc:1057] Bin for 15.62MiB was 8.00MiB, Chunk State: \n",
      "2023-03-09 13:45:58.976980: I tensorflow/tsl/framework/bfc_allocator.cc:1070] Next region of size 404291584\n",
      "2023-03-09 13:45:58.977006: I tensorflow/tsl/framework/bfc_allocator.cc:1090] InUse at 7f1df6000000 of size 256 next 1\n",
      "2023-03-09 13:45:58.977025: I tensorflow/tsl/framework/bfc_allocator.cc:1090] InUse at 7f1df6000100 of size 1280 next 2\n",
      "2023-03-09 13:45:58.977043: I tensorflow/tsl/framework/bfc_allocator.cc:1090] InUse at 7f1df6000600 of size 256 next 3\n",
      "2023-03-09 13:45:58.977061: I tensorflow/tsl/framework/bfc_allocator.cc:1090] InUse at 7f1df6000700 of size 256 next 4\n",
      "2023-03-09 13:45:58.977078: I tensorflow/tsl/framework/bfc_allocator.cc:1090] InUse at 7f1df6000800 of size 256 next 5\n",
      "2023-03-09 13:45:58.977095: I tensorflow/tsl/framework/bfc_allocator.cc:1090] InUse at 7f1df6000900 of size 16128 next 6\n",
      "2023-03-09 13:45:58.977112: I tensorflow/tsl/framework/bfc_allocator.cc:1090] InUse at 7f1df6004800 of size 127983872 next 7\n",
      "2023-03-09 13:45:58.977132: I tensorflow/tsl/framework/bfc_allocator.cc:1090] InUse at 7f1dfda12900 of size 64000000 next 8\n",
      "2023-03-09 13:45:58.977150: I tensorflow/tsl/framework/bfc_allocator.cc:1090] InUse at 7f1e0171b900 of size 16128 next 9\n",
      "2023-03-09 13:45:58.977167: I tensorflow/tsl/framework/bfc_allocator.cc:1090] InUse at 7f1e0171f800 of size 256 next 12\n",
      "2023-03-09 13:45:58.977184: I tensorflow/tsl/framework/bfc_allocator.cc:1090] InUse at 7f1e0171f900 of size 256 next 13\n",
      "2023-03-09 13:45:58.977202: I tensorflow/tsl/framework/bfc_allocator.cc:1090] InUse at 7f1e0171fa00 of size 4096 next 14\n",
      "2023-03-09 13:45:58.977220: I tensorflow/tsl/framework/bfc_allocator.cc:1090] InUse at 7f1e01720a00 of size 256 next 15\n",
      "2023-03-09 13:45:58.977237: I tensorflow/tsl/framework/bfc_allocator.cc:1090] InUse at 7f1e01720b00 of size 256 next 17\n",
      "2023-03-09 13:45:58.977254: I tensorflow/tsl/framework/bfc_allocator.cc:1090] InUse at 7f1e01720c00 of size 512 next 18\n",
      "2023-03-09 13:45:58.977273: I tensorflow/tsl/framework/bfc_allocator.cc:1090] Free  at 7f1e01720e00 of size 1048320 next 20\n",
      "2023-03-09 13:45:58.977290: I tensorflow/tsl/framework/bfc_allocator.cc:1090] InUse at 7f1e01820d00 of size 524288 next 21\n",
      "2023-03-09 13:45:58.977308: I tensorflow/tsl/framework/bfc_allocator.cc:1090] InUse at 7f1e018a0d00 of size 4096 next 19\n",
      "2023-03-09 13:45:58.977324: I tensorflow/tsl/framework/bfc_allocator.cc:1090] InUse at 7f1e018a1d00 of size 256 next 24\n",
      "2023-03-09 13:45:58.977342: I tensorflow/tsl/framework/bfc_allocator.cc:1090] InUse at 7f1e018a1e00 of size 256 next 25\n",
      "2023-03-09 13:45:58.977359: I tensorflow/tsl/framework/bfc_allocator.cc:1090] InUse at 7f1e018a1f00 of size 256 next 26\n",
      "2023-03-09 13:45:58.977376: I tensorflow/tsl/framework/bfc_allocator.cc:1090] InUse at 7f1e018a2000 of size 256 next 27\n",
      "2023-03-09 13:45:58.977392: I tensorflow/tsl/framework/bfc_allocator.cc:1090] InUse at 7f1e018a2100 of size 256 next 30\n",
      "2023-03-09 13:45:58.977409: I tensorflow/tsl/framework/bfc_allocator.cc:1090] InUse at 7f1e018a2200 of size 256 next 31\n",
      "2023-03-09 13:45:58.977425: I tensorflow/tsl/framework/bfc_allocator.cc:1090] InUse at 7f1e018a2300 of size 256 next 32\n",
      "2023-03-09 13:45:58.977442: I tensorflow/tsl/framework/bfc_allocator.cc:1090] InUse at 7f1e018a2400 of size 9216 next 33\n",
      "2023-03-09 13:45:58.977458: I tensorflow/tsl/framework/bfc_allocator.cc:1090] InUse at 7f1e018a4800 of size 256 next 34\n",
      "2023-03-09 13:45:58.977475: I tensorflow/tsl/framework/bfc_allocator.cc:1090] InUse at 7f1e018a4900 of size 256 next 35\n",
      "2023-03-09 13:45:58.977492: I tensorflow/tsl/framework/bfc_allocator.cc:1090] InUse at 7f1e018a4a00 of size 256 next 36\n",
      "2023-03-09 13:45:58.977510: I tensorflow/tsl/framework/bfc_allocator.cc:1090] InUse at 7f1e018a4b00 of size 256 next 37\n",
      "2023-03-09 13:45:58.977527: I tensorflow/tsl/framework/bfc_allocator.cc:1090] InUse at 7f1e018a4c00 of size 256 next 38\n",
      "2023-03-09 13:45:58.977544: I tensorflow/tsl/framework/bfc_allocator.cc:1090] InUse at 7f1e018a4d00 of size 256 next 39\n",
      "2023-03-09 13:45:58.977560: I tensorflow/tsl/framework/bfc_allocator.cc:1090] InUse at 7f1e018a4e00 of size 256 next 40\n",
      "2023-03-09 13:45:58.977577: I tensorflow/tsl/framework/bfc_allocator.cc:1090] InUse at 7f1e018a4f00 of size 16128 next 41\n",
      "2023-03-09 13:45:58.977592: I tensorflow/tsl/framework/bfc_allocator.cc:1090] InUse at 7f1e018a8e00 of size 16128 next 42\n",
      "2023-03-09 13:45:58.977610: I tensorflow/tsl/framework/bfc_allocator.cc:1090] Free  at 7f1e018acd00 of size 62208 next 28\n",
      "2023-03-09 13:45:58.977627: I tensorflow/tsl/framework/bfc_allocator.cc:1090] InUse at 7f1e018bc000 of size 53248 next 29\n",
      "2023-03-09 13:45:58.977643: I tensorflow/tsl/framework/bfc_allocator.cc:1090] Free  at 7f1e018c9000 of size 359936 next 22\n",
      "2023-03-09 13:45:58.977658: I tensorflow/tsl/framework/bfc_allocator.cc:1090] InUse at 7f1e01920e00 of size 524288 next 23\n",
      "2023-03-09 13:45:58.977676: I tensorflow/tsl/framework/bfc_allocator.cc:1090] InUse at 7f1e019a0e00 of size 30141696 next 16\n",
      "2023-03-09 13:45:58.977694: I tensorflow/tsl/framework/bfc_allocator.cc:1090] InUse at 7f1e0365fb00 of size 31215360 next 10\n",
      "2023-03-09 13:45:58.977711: I tensorflow/tsl/framework/bfc_allocator.cc:1090] InUse at 7f1e05424a00 of size 64000000 next 11\n",
      "2023-03-09 13:45:58.977728: I tensorflow/tsl/framework/bfc_allocator.cc:1090] InUse at 7f1e0912da00 of size 84289024 next 18446744073709551615\n",
      "2023-03-09 13:45:58.977746: I tensorflow/tsl/framework/bfc_allocator.cc:1095]      Summary of in-use Chunks by size: \n",
      "2023-03-09 13:45:58.977768: I tensorflow/tsl/framework/bfc_allocator.cc:1098] 22 Chunks of size 256 totalling 5.5KiB\n",
      "2023-03-09 13:45:58.977787: I tensorflow/tsl/framework/bfc_allocator.cc:1098] 1 Chunks of size 512 totalling 512B\n",
      "2023-03-09 13:45:58.977806: I tensorflow/tsl/framework/bfc_allocator.cc:1098] 1 Chunks of size 1280 totalling 1.2KiB\n",
      "2023-03-09 13:45:58.977826: I tensorflow/tsl/framework/bfc_allocator.cc:1098] 2 Chunks of size 4096 totalling 8.0KiB\n",
      "2023-03-09 13:45:58.977878: I tensorflow/tsl/framework/bfc_allocator.cc:1098] 1 Chunks of size 9216 totalling 9.0KiB\n",
      "2023-03-09 13:45:58.977903: I tensorflow/tsl/framework/bfc_allocator.cc:1098] 4 Chunks of size 16128 totalling 63.0KiB\n",
      "2023-03-09 13:45:58.977923: I tensorflow/tsl/framework/bfc_allocator.cc:1098] 1 Chunks of size 53248 totalling 52.0KiB\n",
      "2023-03-09 13:45:58.977943: I tensorflow/tsl/framework/bfc_allocator.cc:1098] 2 Chunks of size 524288 totalling 1.00MiB\n",
      "2023-03-09 13:45:58.977963: I tensorflow/tsl/framework/bfc_allocator.cc:1098] 1 Chunks of size 30141696 totalling 28.75MiB\n",
      "2023-03-09 13:45:58.977982: I tensorflow/tsl/framework/bfc_allocator.cc:1098] 1 Chunks of size 31215360 totalling 29.77MiB\n",
      "2023-03-09 13:45:58.978002: I tensorflow/tsl/framework/bfc_allocator.cc:1098] 2 Chunks of size 64000000 totalling 122.07MiB\n",
      "2023-03-09 13:45:58.978023: I tensorflow/tsl/framework/bfc_allocator.cc:1098] 1 Chunks of size 84289024 totalling 80.38MiB\n",
      "2023-03-09 13:45:58.978043: I tensorflow/tsl/framework/bfc_allocator.cc:1098] 1 Chunks of size 127983872 totalling 122.05MiB\n",
      "2023-03-09 13:45:58.978062: I tensorflow/tsl/framework/bfc_allocator.cc:1102] Sum Total of in-use chunks: 384.16MiB\n",
      "2023-03-09 13:45:58.978080: I tensorflow/tsl/framework/bfc_allocator.cc:1104] total_region_allocated_bytes_: 404291584 memory_limit_: 404291584 available bytes: 0 curr_region_allocation_bytes_: 808583168\n",
      "2023-03-09 13:45:58.978107: I tensorflow/tsl/framework/bfc_allocator.cc:1110] Stats: \n",
      "Limit:                       404291584\n",
      "InUse:                       402821120\n",
      "MaxInUse:                    402821120\n",
      "NumAllocs:                          58\n",
      "MaxAllocSize:                127983872\n",
      "Reserved:                            0\n",
      "PeakReserved:                        0\n",
      "LargestFreeBlock:                    0\n",
      "\n",
      "2023-03-09 13:45:58.978141: W tensorflow/tsl/framework/bfc_allocator.cc:492] ****************xxxxxxxxxxxxxxx**********************xx*****xxx********************************xxxxx\n",
      "2023-03-09 13:45:58.978197: W tensorflow/core/framework/op_kernel.cc:1830] OP_REQUIRES failed at constant_op.cc:175 : RESOURCE_EXHAUSTED: OOM when allocating tensor with shape[4000,1024] and type float on /job:localhost/replica:0/task:0/device:GPU:0 by allocator GPU_0_bfc\n"
     ]
    },
    {
     "ename": "ResourceExhaustedError",
     "evalue": "in user code:\n\n\n    ResourceExhaustedError: {{function_node __wrapped__Fill_device_/job:localhost/replica:0/task:0/device:GPU:0}} OOM when allocating tensor with shape[4000,1024] and type float on /job:localhost/replica:0/task:0/device:GPU:0 by allocator GPU_0_bfc [Op:Fill]\n",
     "output_type": "error",
     "traceback": [
      "\u001b[0;31m---------------------------------------------------------------------------\u001b[0m",
      "\u001b[0;31mResourceExhaustedError\u001b[0m                    Traceback (most recent call last)",
      "Input \u001b[0;32mIn [9]\u001b[0m, in \u001b[0;36m<module>\u001b[0;34m\u001b[0m\n\u001b[1;32m      1\u001b[0m \u001b[38;5;28;01mfrom\u001b[39;00m \u001b[38;5;21;01msklearn\u001b[39;00m \u001b[38;5;28;01mimport\u001b[39;00m metrics\n\u001b[1;32m      2\u001b[0m model_DNN \u001b[38;5;241m=\u001b[39m Build_Model_DNN_Text(X_train\u001b[38;5;241m.\u001b[39mshape[\u001b[38;5;241m1\u001b[39m], \u001b[38;5;241m13\u001b[39m)\n\u001b[0;32m----> 3\u001b[0m \u001b[43mmodel_DNN\u001b[49m\u001b[38;5;241;43m.\u001b[39;49m\u001b[43mfit\u001b[49m\u001b[43m(\u001b[49m\u001b[43mX_train\u001b[49m\u001b[43m,\u001b[49m\u001b[43m \u001b[49m\u001b[43mY_train\u001b[49m\u001b[43m,\u001b[49m\n\u001b[1;32m      4\u001b[0m \u001b[43m                              \u001b[49m\u001b[43mvalidation_data\u001b[49m\u001b[38;5;241;43m=\u001b[39;49m\u001b[43m(\u001b[49m\u001b[43mX_test\u001b[49m\u001b[43m,\u001b[49m\u001b[43m \u001b[49m\u001b[43mY_test\u001b[49m\u001b[43m)\u001b[49m\u001b[43m,\u001b[49m\n\u001b[1;32m      5\u001b[0m \u001b[43m                              \u001b[49m\u001b[43mepochs\u001b[49m\u001b[38;5;241;43m=\u001b[39;49m\u001b[38;5;241;43m50\u001b[39;49m\u001b[43m,\u001b[49m\n\u001b[1;32m      6\u001b[0m \u001b[43m                              \u001b[49m\u001b[43mbatch_size\u001b[49m\u001b[38;5;241;43m=\u001b[39;49m\u001b[38;5;241;43m128\u001b[39;49m\u001b[43m,\u001b[49m\n\u001b[1;32m      7\u001b[0m \u001b[43m                              \u001b[49m\u001b[43mverbose\u001b[49m\u001b[38;5;241;43m=\u001b[39;49m\u001b[38;5;241;43m2\u001b[39;49m\u001b[43m)\u001b[49m\n\u001b[1;32m      8\u001b[0m                               \u001b[38;5;66;03m#callbacks=[early_stopping])\u001b[39;00m\n\u001b[1;32m      9\u001b[0m predicted \u001b[38;5;241m=\u001b[39m model_DNN\u001b[38;5;241m.\u001b[39mpredict(X_test)\n",
      "File \u001b[0;32m/opt/conda/lib/python3.9/site-packages/tensorflow/python/keras/engine/training.py:1187\u001b[0m, in \u001b[0;36mModel.fit\u001b[0;34m(self, x, y, batch_size, epochs, verbose, callbacks, validation_split, validation_data, shuffle, class_weight, sample_weight, initial_epoch, steps_per_epoch, validation_steps, validation_batch_size, validation_freq, max_queue_size, workers, use_multiprocessing)\u001b[0m\n\u001b[1;32m   1180\u001b[0m \u001b[38;5;28;01mwith\u001b[39;00m trace\u001b[38;5;241m.\u001b[39mTrace(\n\u001b[1;32m   1181\u001b[0m     \u001b[38;5;124m'\u001b[39m\u001b[38;5;124mtrain\u001b[39m\u001b[38;5;124m'\u001b[39m,\n\u001b[1;32m   1182\u001b[0m     epoch_num\u001b[38;5;241m=\u001b[39mepoch,\n\u001b[1;32m   1183\u001b[0m     step_num\u001b[38;5;241m=\u001b[39mstep,\n\u001b[1;32m   1184\u001b[0m     batch_size\u001b[38;5;241m=\u001b[39mbatch_size,\n\u001b[1;32m   1185\u001b[0m     _r\u001b[38;5;241m=\u001b[39m\u001b[38;5;241m1\u001b[39m):\n\u001b[1;32m   1186\u001b[0m   callbacks\u001b[38;5;241m.\u001b[39mon_train_batch_begin(step)\n\u001b[0;32m-> 1187\u001b[0m   tmp_logs \u001b[38;5;241m=\u001b[39m \u001b[38;5;28;43mself\u001b[39;49m\u001b[38;5;241;43m.\u001b[39;49m\u001b[43mtrain_function\u001b[49m\u001b[43m(\u001b[49m\u001b[43miterator\u001b[49m\u001b[43m)\u001b[49m\n\u001b[1;32m   1188\u001b[0m   \u001b[38;5;28;01mif\u001b[39;00m data_handler\u001b[38;5;241m.\u001b[39mshould_sync:\n\u001b[1;32m   1189\u001b[0m     context\u001b[38;5;241m.\u001b[39masync_wait()\n",
      "File \u001b[0;32m/opt/conda/lib/python3.9/site-packages/tensorflow/python/util/traceback_utils.py:153\u001b[0m, in \u001b[0;36mfilter_traceback.<locals>.error_handler\u001b[0;34m(*args, **kwargs)\u001b[0m\n\u001b[1;32m    151\u001b[0m \u001b[38;5;28;01mexcept\u001b[39;00m \u001b[38;5;167;01mException\u001b[39;00m \u001b[38;5;28;01mas\u001b[39;00m e:\n\u001b[1;32m    152\u001b[0m   filtered_tb \u001b[38;5;241m=\u001b[39m _process_traceback_frames(e\u001b[38;5;241m.\u001b[39m__traceback__)\n\u001b[0;32m--> 153\u001b[0m   \u001b[38;5;28;01mraise\u001b[39;00m e\u001b[38;5;241m.\u001b[39mwith_traceback(filtered_tb) \u001b[38;5;28;01mfrom\u001b[39;00m \u001b[38;5;28mNone\u001b[39m\n\u001b[1;32m    154\u001b[0m \u001b[38;5;28;01mfinally\u001b[39;00m:\n\u001b[1;32m    155\u001b[0m   \u001b[38;5;28;01mdel\u001b[39;00m filtered_tb\n",
      "File \u001b[0;32m/opt/conda/lib/python3.9/site-packages/tensorflow/python/framework/func_graph.py:1269\u001b[0m, in \u001b[0;36mfunc_graph_from_py_func.<locals>.autograph_handler\u001b[0;34m(*args, **kwargs)\u001b[0m\n\u001b[1;32m   1267\u001b[0m \u001b[38;5;28;01mexcept\u001b[39;00m \u001b[38;5;167;01mException\u001b[39;00m \u001b[38;5;28;01mas\u001b[39;00m e:  \u001b[38;5;66;03m# pylint:disable=broad-except\u001b[39;00m\n\u001b[1;32m   1268\u001b[0m   \u001b[38;5;28;01mif\u001b[39;00m \u001b[38;5;28mhasattr\u001b[39m(e, \u001b[38;5;124m\"\u001b[39m\u001b[38;5;124mag_error_metadata\u001b[39m\u001b[38;5;124m\"\u001b[39m):\n\u001b[0;32m-> 1269\u001b[0m     \u001b[38;5;28;01mraise\u001b[39;00m e\u001b[38;5;241m.\u001b[39mag_error_metadata\u001b[38;5;241m.\u001b[39mto_exception(e)\n\u001b[1;32m   1270\u001b[0m   \u001b[38;5;28;01melse\u001b[39;00m:\n\u001b[1;32m   1271\u001b[0m     \u001b[38;5;28;01mraise\u001b[39;00m\n",
      "\u001b[0;31mResourceExhaustedError\u001b[0m: in user code:\n\n\n    ResourceExhaustedError: {{function_node __wrapped__Fill_device_/job:localhost/replica:0/task:0/device:GPU:0}} OOM when allocating tensor with shape[4000,1024] and type float on /job:localhost/replica:0/task:0/device:GPU:0 by allocator GPU_0_bfc [Op:Fill]\n"
     ]
    }
   ],
   "source": [
    "from sklearn import metrics\n",
    "model_DNN = Build_Model_DNN_Text(X_train.shape[1], 13)\n",
    "model_DNN.fit(X_train, Y_train,\n",
    "                              validation_data=(X_test, Y_test),\n",
    "                              epochs=50,\n",
    "                              batch_size=128,\n",
    "                              verbose=2)\n",
    "                              #callbacks=[early_stopping])\n",
    "predicted = model_DNN.predict(X_test)\n",
    "Y_pred = np.argmax(predicted, axis=1)\n",
    "print(metrics.classification_report(Y_test, Y_pred))"
   ]
  },
  {
   "cell_type": "markdown",
   "id": "c3b1b126-a5c7-4caf-8a94-77ea31b690f1",
   "metadata": {
    "id": "c3b1b126-a5c7-4caf-8a94-77ea31b690f1"
   },
   "source": [
    "### Métricas"
   ]
  },
  {
   "cell_type": "code",
   "execution_count": null,
   "id": "3810f4d0-4f8f-424e-b71c-9cd3fb09e71e",
   "metadata": {
    "executionInfo": {
     "elapsed": 387,
     "status": "ok",
     "timestamp": 1675097825090,
     "user": {
      "displayName": "Fábio Cordeiro",
      "userId": "00933077666862327455"
     },
     "user_tz": 180
    },
    "id": "3810f4d0-4f8f-424e-b71c-9cd3fb09e71e"
   },
   "outputs": [],
   "source": [
    "from sklearn.metrics import f1_score, roc_auc_score, accuracy_score, precision_score, recall_score, hamming_loss\n",
    "precision = precision_score(Y_test, Y_pred,average='micro')\n",
    "recall = recall_score(Y_test, Y_pred,average='micro')\n",
    "f1_micro_average = f1_score(y_true=Y_test, y_pred=Y_pred, average='micro')\n",
    "#roc_auc = roc_auc_score(Y_test, Y_pred, multi_class ='ovr', average = 'micro')\n",
    "accuracy = accuracy_score(Y_test, Y_pred)\n",
    "hloss = hamming_loss(Y_test, Y_pred)"
   ]
  },
  {
   "cell_type": "code",
   "execution_count": null,
   "id": "503cc683",
   "metadata": {
    "colab": {
     "base_uri": "https://localhost:8080/"
    },
    "executionInfo": {
     "elapsed": 433,
     "status": "ok",
     "timestamp": 1675097833896,
     "user": {
      "displayName": "Fábio Cordeiro",
      "userId": "00933077666862327455"
     },
     "user_tz": 180
    },
    "id": "503cc683",
    "outputId": "6720b7f7-483b-4245-fa41-102ed3627d6c"
   },
   "outputs": [],
   "source": [
    "print(\"Acurácia:\",accuracy)\n",
    "print(\"Precisão:\",precision)\n",
    "print(\"Recall:\",recall)\n",
    "print(\"F1:\",f1_micro_average)\n",
    "#print(\"Roc_auc:\",roc_auc)\n",
    "print(\"Hamming Loss:\",hloss)"
   ]
  },
  {
   "cell_type": "code",
   "execution_count": null,
   "id": "4e75ff79",
   "metadata": {},
   "outputs": [],
   "source": []
  }
 ],
 "metadata": {
  "colab": {
   "provenance": []
  },
  "kernelspec": {
   "display_name": "Python 3 (ipykernel)",
   "language": "python",
   "name": "python3"
  },
  "language_info": {
   "codemirror_mode": {
    "name": "ipython",
    "version": 3
   },
   "file_extension": ".py",
   "mimetype": "text/x-python",
   "name": "python",
   "nbconvert_exporter": "python",
   "pygments_lexer": "ipython3",
   "version": "3.9.7"
  }
 },
 "nbformat": 4,
 "nbformat_minor": 5
}

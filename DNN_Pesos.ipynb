{
 "cells": [
  {
   "cell_type": "code",
   "execution_count": 1,
   "id": "dGfJfeJv35Kv",
   "metadata": {
    "colab": {
     "base_uri": "https://localhost:8080/"
    },
    "executionInfo": {
     "elapsed": 2893,
     "status": "ok",
     "timestamp": 1675097614830,
     "user": {
      "displayName": "Fábio Cordeiro",
      "userId": "00933077666862327455"
     },
     "user_tz": 180
    },
    "id": "dGfJfeJv35Kv",
    "outputId": "693c9ce3-7174-4a33-b936-3936b3c49e4e"
   },
   "outputs": [],
   "source": [
    "data_path = \"../data/70-15-15\"\n",
    "model_path = \"../models\""
   ]
  },
  {
   "cell_type": "code",
   "execution_count": 2,
   "id": "0oK9W-U39Yd7",
   "metadata": {
    "colab": {
     "base_uri": "https://localhost:8080/"
    },
    "executionInfo": {
     "elapsed": 4568,
     "status": "ok",
     "timestamp": 1675097619392,
     "user": {
      "displayName": "Fábio Cordeiro",
      "userId": "00933077666862327455"
     },
     "user_tz": 180
    },
    "id": "0oK9W-U39Yd7",
    "outputId": "4d1ead00-ff1c-44d1-e2b3-fdfcf6b96cf2"
   },
   "outputs": [
    {
     "name": "stdout",
     "output_type": "stream",
     "text": [
      "Requirement already satisfied: tensorflow in /opt/conda/lib/python3.9/site-packages (2.6.2)\n",
      "Requirement already satisfied: opt-einsum~=3.3.0 in /opt/conda/lib/python3.9/site-packages (from tensorflow) (3.3.0)\n",
      "Requirement already satisfied: tensorflow-estimator<2.7,>=2.6.0 in /opt/conda/lib/python3.9/site-packages (from tensorflow) (2.6.0)\n",
      "Requirement already satisfied: google-pasta~=0.2 in /opt/conda/lib/python3.9/site-packages (from tensorflow) (0.2.0)\n",
      "Requirement already satisfied: gast==0.4.0 in /opt/conda/lib/python3.9/site-packages (from tensorflow) (0.4.0)\n",
      "Requirement already satisfied: protobuf>=3.9.2 in /opt/conda/lib/python3.9/site-packages (from tensorflow) (3.19.3)\n",
      "Requirement already satisfied: flatbuffers~=1.12.0 in /opt/conda/lib/python3.9/site-packages (from tensorflow) (1.12)\n",
      "Requirement already satisfied: six~=1.15.0 in /opt/conda/lib/python3.9/site-packages (from tensorflow) (1.15.0)\n",
      "Requirement already satisfied: keras<2.7,>=2.6.0 in /opt/conda/lib/python3.9/site-packages (from tensorflow) (2.6.0)\n",
      "Requirement already satisfied: wrapt~=1.12.1 in /opt/conda/lib/python3.9/site-packages (from tensorflow) (1.12.1)\n",
      "Requirement already satisfied: numpy~=1.19.2 in /opt/conda/lib/python3.9/site-packages (from tensorflow) (1.19.5)\n",
      "Requirement already satisfied: clang~=5.0 in /opt/conda/lib/python3.9/site-packages (from tensorflow) (5.0)\n",
      "Requirement already satisfied: tensorboard<2.7,>=2.6.0 in /opt/conda/lib/python3.9/site-packages (from tensorflow) (2.6.0)\n",
      "Requirement already satisfied: wheel~=0.35 in /opt/conda/lib/python3.9/site-packages (from tensorflow) (0.37.1)\n",
      "Requirement already satisfied: astunparse~=1.6.3 in /opt/conda/lib/python3.9/site-packages (from tensorflow) (1.6.3)\n",
      "Requirement already satisfied: keras-preprocessing~=1.1.2 in /opt/conda/lib/python3.9/site-packages (from tensorflow) (1.1.2)\n",
      "Requirement already satisfied: termcolor~=1.1.0 in /opt/conda/lib/python3.9/site-packages (from tensorflow) (1.1.0)\n",
      "Requirement already satisfied: grpcio<2.0,>=1.37.0 in /opt/conda/lib/python3.9/site-packages (from tensorflow) (1.43.0)\n",
      "Requirement already satisfied: typing-extensions~=3.7.4 in /opt/conda/lib/python3.9/site-packages (from tensorflow) (3.7.4.3)\n",
      "Requirement already satisfied: h5py~=3.1.0 in /opt/conda/lib/python3.9/site-packages (from tensorflow) (3.1.0)\n",
      "Requirement already satisfied: absl-py~=0.10 in /opt/conda/lib/python3.9/site-packages (from tensorflow) (0.15.0)\n",
      "Requirement already satisfied: werkzeug>=0.11.15 in /opt/conda/lib/python3.9/site-packages (from tensorboard<2.7,>=2.6.0->tensorflow) (2.0.2)\n",
      "Requirement already satisfied: google-auth-oauthlib<0.5,>=0.4.1 in /opt/conda/lib/python3.9/site-packages (from tensorboard<2.7,>=2.6.0->tensorflow) (0.4.6)\n",
      "Requirement already satisfied: setuptools>=41.0.0 in /opt/conda/lib/python3.9/site-packages (from tensorboard<2.7,>=2.6.0->tensorflow) (59.8.0)\n",
      "Requirement already satisfied: tensorboard-plugin-wit>=1.6.0 in /opt/conda/lib/python3.9/site-packages (from tensorboard<2.7,>=2.6.0->tensorflow) (1.8.1)\n",
      "Requirement already satisfied: markdown>=2.6.8 in /opt/conda/lib/python3.9/site-packages (from tensorboard<2.7,>=2.6.0->tensorflow) (3.3.6)\n",
      "Requirement already satisfied: google-auth<2,>=1.6.3 in /opt/conda/lib/python3.9/site-packages (from tensorboard<2.7,>=2.6.0->tensorflow) (1.35.0)\n",
      "Requirement already satisfied: requests<3,>=2.21.0 in /opt/conda/lib/python3.9/site-packages (from tensorboard<2.7,>=2.6.0->tensorflow) (2.27.1)\n",
      "Requirement already satisfied: tensorboard-data-server<0.7.0,>=0.6.0 in /opt/conda/lib/python3.9/site-packages (from tensorboard<2.7,>=2.6.0->tensorflow) (0.6.1)\n",
      "Requirement already satisfied: rsa<5,>=3.1.4 in /opt/conda/lib/python3.9/site-packages (from google-auth<2,>=1.6.3->tensorboard<2.7,>=2.6.0->tensorflow) (4.8)\n",
      "Requirement already satisfied: pyasn1-modules>=0.2.1 in /opt/conda/lib/python3.9/site-packages (from google-auth<2,>=1.6.3->tensorboard<2.7,>=2.6.0->tensorflow) (0.2.8)\n",
      "Requirement already satisfied: cachetools<5.0,>=2.0.0 in /opt/conda/lib/python3.9/site-packages (from google-auth<2,>=1.6.3->tensorboard<2.7,>=2.6.0->tensorflow) (4.2.4)\n",
      "Requirement already satisfied: requests-oauthlib>=0.7.0 in /opt/conda/lib/python3.9/site-packages (from google-auth-oauthlib<0.5,>=0.4.1->tensorboard<2.7,>=2.6.0->tensorflow) (1.3.1)\n",
      "Requirement already satisfied: importlib-metadata>=4.4 in /opt/conda/lib/python3.9/site-packages (from markdown>=2.6.8->tensorboard<2.7,>=2.6.0->tensorflow) (4.10.1)\n",
      "Requirement already satisfied: charset-normalizer~=2.0.0 in /opt/conda/lib/python3.9/site-packages (from requests<3,>=2.21.0->tensorboard<2.7,>=2.6.0->tensorflow) (2.0.10)\n",
      "Requirement already satisfied: idna<4,>=2.5 in /opt/conda/lib/python3.9/site-packages (from requests<3,>=2.21.0->tensorboard<2.7,>=2.6.0->tensorflow) (3.3)\n",
      "Requirement already satisfied: certifi>=2017.4.17 in /opt/conda/lib/python3.9/site-packages (from requests<3,>=2.21.0->tensorboard<2.7,>=2.6.0->tensorflow) (2021.10.8)\n",
      "Requirement already satisfied: urllib3<1.27,>=1.21.1 in /opt/conda/lib/python3.9/site-packages (from requests<3,>=2.21.0->tensorboard<2.7,>=2.6.0->tensorflow) (1.26.8)\n",
      "Requirement already satisfied: zipp>=0.5 in /opt/conda/lib/python3.9/site-packages (from importlib-metadata>=4.4->markdown>=2.6.8->tensorboard<2.7,>=2.6.0->tensorflow) (3.7.0)\n",
      "Requirement already satisfied: pyasn1<0.5.0,>=0.4.6 in /opt/conda/lib/python3.9/site-packages (from pyasn1-modules>=0.2.1->google-auth<2,>=1.6.3->tensorboard<2.7,>=2.6.0->tensorflow) (0.4.8)\n",
      "Requirement already satisfied: oauthlib>=3.0.0 in /opt/conda/lib/python3.9/site-packages (from requests-oauthlib>=0.7.0->google-auth-oauthlib<0.5,>=0.4.1->tensorboard<2.7,>=2.6.0->tensorflow) (3.2.0)\n"
     ]
    }
   ],
   "source": [
    "!pip install tensorflow\n",
    "#!pip install datasets"
   ]
  },
  {
   "cell_type": "code",
   "execution_count": 13,
   "id": "dbd010dd-8f29-48b1-9e89-2cab82e6ea60",
   "metadata": {
    "executionInfo": {
     "elapsed": 1080,
     "status": "ok",
     "timestamp": 1675097620466,
     "user": {
      "displayName": "Fábio Cordeiro",
      "userId": "00933077666862327455"
     },
     "user_tz": 180
    },
    "id": "dbd010dd-8f29-48b1-9e89-2cab82e6ea60"
   },
   "outputs": [],
   "source": [
    "from sklearn.feature_extraction.text import TfidfVectorizer\n",
    "\n",
    "import numpy as np\n",
    "import pandas as pd\n",
    "\n"
   ]
  },
  {
   "cell_type": "code",
   "execution_count": 14,
   "id": "85187dff-a49f-4dab-acc5-0479a7694cb8",
   "metadata": {
    "executionInfo": {
     "elapsed": 682,
     "status": "ok",
     "timestamp": 1675097621145,
     "user": {
      "displayName": "Fábio Cordeiro",
      "userId": "00933077666862327455"
     },
     "user_tz": 180
    },
    "id": "85187dff-a49f-4dab-acc5-0479a7694cb8"
   },
   "outputs": [],
   "source": [
    "treino=pd.read_csv(data_path+'/comunic_treino.csv', encoding='utf-8')\n",
    "teste=pd.read_csv(data_path+'/comunic_teste.csv', encoding='utf-8')\n",
    "validacao=pd.read_csv(data_path+'/comunic_valid.csv', encoding='utf-8')"
   ]
  },
  {
   "cell_type": "code",
   "execution_count": 15,
   "id": "gFFnKgbUdaY0",
   "metadata": {
    "executionInfo": {
     "elapsed": 8,
     "status": "ok",
     "timestamp": 1675097621146,
     "user": {
      "displayName": "Fábio Cordeiro",
      "userId": "00933077666862327455"
     },
     "user_tz": 180
    },
    "id": "gFFnKgbUdaY0"
   },
   "outputs": [],
   "source": [
    "def TFIDF(X_train, X_test,MAX_NB_WORDS=4000):\n",
    "    vectorizer_x = TfidfVectorizer(max_features=MAX_NB_WORDS)\n",
    "    X_train = vectorizer_x.fit_transform(X_train).toarray()\n",
    "    X_test = vectorizer_x.transform(X_test).toarray()\n",
    "    print(\"tf-idf with\",str(np.array(X_train).shape[1]),\"features\")\n",
    "    return (X_train,X_test)"
   ]
  },
  {
   "cell_type": "code",
   "execution_count": 16,
   "id": "734d7b64-95e4-4fc0-840f-f4f66e0ce340",
   "metadata": {
    "executionInfo": {
     "elapsed": 7,
     "status": "ok",
     "timestamp": 1675097621146,
     "user": {
      "displayName": "Fábio Cordeiro",
      "userId": "00933077666862327455"
     },
     "user_tz": 180
    },
    "id": "734d7b64-95e4-4fc0-840f-f4f66e0ce340"
   },
   "outputs": [],
   "source": [
    "def make_tfidf(coluna):\n",
    "    vectorizer = TfidfVectorizer()\n",
    "    vectors = np.asarray(vectorizer.fit_transform(coluna).todense())\n",
    "    return vectors"
   ]
  },
  {
   "cell_type": "code",
   "execution_count": 17,
   "id": "01f1e27a-ace3-48f6-a348-9466c2acfbd4",
   "metadata": {
    "colab": {
     "base_uri": "https://localhost:8080/"
    },
    "executionInfo": {
     "elapsed": 8,
     "status": "ok",
     "timestamp": 1675097621147,
     "user": {
      "displayName": "Fábio Cordeiro",
      "userId": "00933077666862327455"
     },
     "user_tz": 180
    },
    "id": "01f1e27a-ace3-48f6-a348-9466c2acfbd4",
    "outputId": "ca87d1ac-ab75-43b8-b478-0c9a7f521efd"
   },
   "outputs": [
    {
     "name": "stdout",
     "output_type": "stream",
     "text": [
      "tf-idf with 4000 features\n"
     ]
    }
   ],
   "source": [
    "X_train, X_test = TFIDF(treino[\"text\"], teste[\"text\"])\n",
    "Y_train=treino.label\n",
    "Y_test=teste.label\n",
    "X_val=make_tfidf(validacao.text)\n",
    "Y_val=validacao.label"
   ]
  },
  {
   "cell_type": "code",
   "execution_count": 19,
   "id": "f13f9375",
   "metadata": {},
   "outputs": [
    {
     "data": {
      "text/plain": [
       "{0: 1.2253521126760563,\n",
       " 1: 1.0740740740740742,\n",
       " 2: 5.117647058823529,\n",
       " 3: 2.4857142857142858,\n",
       " 4: 0.16353383458646617,\n",
       " 5: 2.1219512195121952,\n",
       " 6: 4.35,\n",
       " 7: 1.359375,\n",
       " 8: 5.4375,\n",
       " 9: 0.8529411764705882,\n",
       " 10: 2.806451612903226,\n",
       " 11: 4.35,\n",
       " 12: 0.8613861386138614}"
      ]
     },
     "execution_count": 19,
     "metadata": {},
     "output_type": "execute_result"
    }
   ],
   "source": [
    "from sklearn.utils.class_weight import compute_class_weight\n",
    "class_weights = compute_class_weight(class_weight = \"balanced\", classes= np.unique(treino.label), y= treino.label)\n",
    "class_weights = dict(zip(np.unique(treino.label), class_weights))\n",
    "class_weights"
   ]
  },
  {
   "cell_type": "markdown",
   "id": "6932765d-6b4a-45bf-97c3-c7751a017724",
   "metadata": {
    "id": "6932765d-6b4a-45bf-97c3-c7751a017724"
   },
   "source": [
    "# Definição do modelo de classificacao DNN"
   ]
  },
  {
   "cell_type": "code",
   "execution_count": 20,
   "id": "PuKm4srVFMLL",
   "metadata": {
    "executionInfo": {
     "elapsed": 2489,
     "status": "ok",
     "timestamp": 1675097623630,
     "user": {
      "displayName": "Fábio Cordeiro",
      "userId": "00933077666862327455"
     },
     "user_tz": 180
    },
    "id": "PuKm4srVFMLL"
   },
   "outputs": [],
   "source": [
    "from tensorflow.python.keras import models\n",
    "from tensorflow.python.keras import layers\n",
    "from tensorflow.python.keras import losses\n",
    "from tensorflow.python.keras import optimizers\n",
    "\n",
    "from tensorflow.python.keras.callbacks import EarlyStopping\n",
    "\n",
    "early_stopping =  EarlyStopping(\n",
    "    monitor='val_accuracy', \n",
    "    patience=4\n",
    ")\n",
    "\n",
    "def Build_Model_DNN_Text(shape, nClasses, dropout=0.4):\n",
    "    model = models.Sequential()\n",
    "    model.add(layers.Dense(4000,input_dim=shape,activation='relu'))\n",
    "    model.add(layers.Dense(shape,activation='relu'))\n",
    "    model.add(layers.Dropout(dropout))\n",
    "    model.add(layers.Dense(1024,activation='relu'))\n",
    "    model.add(layers.Dropout(dropout))\n",
    "    model.add(layers.Dense(128,activation='relu'))\n",
    "    model.add(layers.Dropout(dropout))    \n",
    "    model.add(layers.Dense(1024,activation='relu'))\n",
    "    model.add(layers.Dropout(dropout))    \n",
    "    model.add(layers.Dense(nClasses, activation='sigmoid'))\n",
    "    model.compile(loss='sparse_categorical_crossentropy',\n",
    "                  optimizer='Adam',\n",
    "                  metrics=['accuracy'])\n",
    "    model.summary()\n",
    "    return model"
   ]
  },
  {
   "cell_type": "code",
   "execution_count": 21,
   "id": "Gc8dcyskKuJ3",
   "metadata": {
    "colab": {
     "base_uri": "https://localhost:8080/"
    },
    "executionInfo": {
     "elapsed": 132261,
     "status": "ok",
     "timestamp": 1675097767282,
     "user": {
      "displayName": "Fábio Cordeiro",
      "userId": "00933077666862327455"
     },
     "user_tz": 180
    },
    "id": "Gc8dcyskKuJ3",
    "outputId": "d794d2cd-52ac-4e6d-9c34-6e523e1163f9"
   },
   "outputs": [
    {
     "name": "stdout",
     "output_type": "stream",
     "text": [
      "Model: \"sequential_1\"\n",
      "_________________________________________________________________\n",
      "Layer (type)                 Output Shape              Param #   \n",
      "=================================================================\n",
      "dense_6 (Dense)              (None, 4000)              16004000  \n",
      "_________________________________________________________________\n",
      "dense_7 (Dense)              (None, 4000)              16004000  \n",
      "_________________________________________________________________\n",
      "dropout_4 (Dropout)          (None, 4000)              0         \n",
      "_________________________________________________________________\n",
      "dense_8 (Dense)              (None, 1024)              4097024   \n",
      "_________________________________________________________________\n",
      "dropout_5 (Dropout)          (None, 1024)              0         \n",
      "_________________________________________________________________\n",
      "dense_9 (Dense)              (None, 128)               131200    \n",
      "_________________________________________________________________\n",
      "dropout_6 (Dropout)          (None, 128)               0         \n",
      "_________________________________________________________________\n",
      "dense_10 (Dense)             (None, 1024)              132096    \n",
      "_________________________________________________________________\n",
      "dropout_7 (Dropout)          (None, 1024)              0         \n",
      "_________________________________________________________________\n",
      "dense_11 (Dense)             (None, 13)                13325     \n",
      "=================================================================\n",
      "Total params: 36,381,645\n",
      "Trainable params: 36,381,645\n",
      "Non-trainable params: 0\n",
      "_________________________________________________________________\n",
      "Epoch 1/50\n"
     ]
    },
    {
     "name": "stderr",
     "output_type": "stream",
     "text": [
      "2023-03-07 00:15:50.280665: I tensorflow/compiler/mlir/mlir_graph_optimization_pass.cc:185] None of the MLIR Optimization Passes are enabled (registered 2)\n"
     ]
    },
    {
     "name": "stdout",
     "output_type": "stream",
     "text": [
      "9/9 - 1s - loss: 2.5757 - accuracy: 0.0522 - val_loss: 2.5632 - val_accuracy: 0.0165\n",
      "Epoch 2/50\n",
      "9/9 - 0s - loss: 2.5626 - accuracy: 0.0619 - val_loss: 2.5725 - val_accuracy: 0.0741\n",
      "Epoch 3/50\n",
      "9/9 - 0s - loss: 2.5005 - accuracy: 0.0557 - val_loss: 2.5472 - val_accuracy: 0.0576\n",
      "Epoch 4/50\n",
      "9/9 - 0s - loss: 2.1704 - accuracy: 0.0964 - val_loss: 2.3957 - val_accuracy: 0.1193\n",
      "Epoch 5/50\n",
      "9/9 - 0s - loss: 1.6266 - accuracy: 0.2246 - val_loss: 2.0812 - val_accuracy: 0.2634\n",
      "Epoch 6/50\n",
      "9/9 - 0s - loss: 1.1154 - accuracy: 0.5606 - val_loss: 1.8663 - val_accuracy: 0.7119\n",
      "Epoch 7/50\n",
      "9/9 - 0s - loss: 0.7071 - accuracy: 0.8585 - val_loss: 1.2847 - val_accuracy: 0.7160\n",
      "Epoch 8/50\n",
      "9/9 - 0s - loss: 0.3592 - accuracy: 0.8576 - val_loss: 1.2766 - val_accuracy: 0.7531\n",
      "Epoch 9/50\n",
      "9/9 - 0s - loss: 0.4548 - accuracy: 0.9567 - val_loss: 1.3359 - val_accuracy: 0.7778\n",
      "Epoch 10/50\n",
      "9/9 - 0s - loss: 0.1478 - accuracy: 0.9567 - val_loss: 1.1821 - val_accuracy: 0.7613\n",
      "Epoch 11/50\n",
      "9/9 - 0s - loss: 0.1011 - accuracy: 0.9770 - val_loss: 1.2257 - val_accuracy: 0.7695\n",
      "Epoch 12/50\n",
      "9/9 - 0s - loss: 0.1108 - accuracy: 0.9779 - val_loss: 1.2823 - val_accuracy: 0.7737\n",
      "Epoch 13/50\n",
      "9/9 - 0s - loss: 0.0347 - accuracy: 0.9903 - val_loss: 1.6347 - val_accuracy: 0.7695\n",
      "Epoch 14/50\n",
      "9/9 - 0s - loss: 0.0635 - accuracy: 0.9867 - val_loss: 1.3172 - val_accuracy: 0.7490\n",
      "Epoch 15/50\n",
      "9/9 - 0s - loss: 0.0194 - accuracy: 0.9920 - val_loss: 1.3881 - val_accuracy: 0.7778\n",
      "Epoch 16/50\n",
      "9/9 - 0s - loss: 0.0195 - accuracy: 0.9973 - val_loss: 1.6550 - val_accuracy: 0.7860\n",
      "Epoch 17/50\n",
      "9/9 - 0s - loss: 0.0342 - accuracy: 0.9956 - val_loss: 1.5229 - val_accuracy: 0.7860\n",
      "Epoch 18/50\n",
      "9/9 - 0s - loss: 0.0293 - accuracy: 0.9947 - val_loss: 1.6490 - val_accuracy: 0.7778\n",
      "Epoch 19/50\n",
      "9/9 - 0s - loss: 0.0116 - accuracy: 0.9965 - val_loss: 1.7360 - val_accuracy: 0.7654\n",
      "Epoch 20/50\n",
      "9/9 - 0s - loss: 0.0328 - accuracy: 0.9947 - val_loss: 1.6473 - val_accuracy: 0.7860\n",
      "Epoch 21/50\n",
      "9/9 - 0s - loss: 0.0138 - accuracy: 0.9991 - val_loss: 1.6914 - val_accuracy: 0.7901\n",
      "Epoch 22/50\n",
      "9/9 - 0s - loss: 0.0128 - accuracy: 0.9973 - val_loss: 1.6589 - val_accuracy: 0.7984\n",
      "Epoch 23/50\n",
      "9/9 - 0s - loss: 0.0146 - accuracy: 0.9965 - val_loss: 1.6967 - val_accuracy: 0.7860\n",
      "Epoch 24/50\n",
      "9/9 - 0s - loss: 0.0114 - accuracy: 0.9991 - val_loss: 1.7489 - val_accuracy: 0.7942\n",
      "Epoch 25/50\n",
      "9/9 - 0s - loss: 0.0220 - accuracy: 0.9956 - val_loss: 1.7853 - val_accuracy: 0.7901\n",
      "Epoch 26/50\n",
      "9/9 - 0s - loss: 0.0197 - accuracy: 0.9973 - val_loss: 1.8575 - val_accuracy: 0.7860\n",
      "Epoch 27/50\n",
      "9/9 - 0s - loss: 0.0224 - accuracy: 0.9965 - val_loss: 2.0479 - val_accuracy: 0.7901\n",
      "Epoch 28/50\n",
      "9/9 - 0s - loss: 0.0135 - accuracy: 0.9991 - val_loss: 2.0111 - val_accuracy: 0.7778\n",
      "Epoch 29/50\n",
      "9/9 - 0s - loss: 0.0163 - accuracy: 0.9982 - val_loss: 1.9133 - val_accuracy: 0.7860\n",
      "Epoch 30/50\n",
      "9/9 - 0s - loss: 0.0175 - accuracy: 0.9965 - val_loss: 1.9734 - val_accuracy: 0.7819\n",
      "Epoch 31/50\n",
      "9/9 - 0s - loss: 0.0134 - accuracy: 0.9973 - val_loss: 2.0074 - val_accuracy: 0.7942\n",
      "Epoch 32/50\n",
      "9/9 - 0s - loss: 0.0137 - accuracy: 0.9982 - val_loss: 2.0974 - val_accuracy: 0.7819\n",
      "Epoch 33/50\n",
      "9/9 - 0s - loss: 0.0258 - accuracy: 0.9965 - val_loss: 2.0032 - val_accuracy: 0.7778\n",
      "Epoch 34/50\n",
      "9/9 - 0s - loss: 0.0127 - accuracy: 0.9973 - val_loss: 1.8417 - val_accuracy: 0.7737\n",
      "Epoch 35/50\n",
      "9/9 - 0s - loss: 0.0109 - accuracy: 0.9929 - val_loss: 1.8436 - val_accuracy: 0.7695\n",
      "Epoch 36/50\n",
      "9/9 - 0s - loss: 0.0097 - accuracy: 0.9982 - val_loss: 1.8600 - val_accuracy: 0.7695\n",
      "Epoch 37/50\n",
      "9/9 - 0s - loss: 0.0042 - accuracy: 1.0000 - val_loss: 1.9903 - val_accuracy: 0.7819\n",
      "Epoch 38/50\n",
      "9/9 - 0s - loss: 0.0328 - accuracy: 0.9982 - val_loss: 1.9770 - val_accuracy: 0.7737\n",
      "Epoch 39/50\n",
      "9/9 - 0s - loss: 0.0216 - accuracy: 0.9965 - val_loss: 2.0885 - val_accuracy: 0.7778\n",
      "Epoch 40/50\n",
      "9/9 - 0s - loss: 0.0598 - accuracy: 0.9965 - val_loss: 2.3758 - val_accuracy: 0.7654\n",
      "Epoch 41/50\n",
      "9/9 - 0s - loss: 0.0477 - accuracy: 0.9973 - val_loss: 2.3488 - val_accuracy: 0.7654\n",
      "Epoch 42/50\n",
      "9/9 - 0s - loss: 0.1337 - accuracy: 0.9894 - val_loss: 2.0149 - val_accuracy: 0.7695\n",
      "Epoch 43/50\n",
      "9/9 - 0s - loss: 0.0184 - accuracy: 0.9965 - val_loss: 2.7257 - val_accuracy: 0.7860\n",
      "Epoch 44/50\n",
      "9/9 - 0s - loss: 0.0249 - accuracy: 0.9956 - val_loss: 2.5715 - val_accuracy: 0.7778\n",
      "Epoch 45/50\n",
      "9/9 - 0s - loss: 0.0254 - accuracy: 0.9965 - val_loss: 2.3052 - val_accuracy: 0.7572\n",
      "Epoch 46/50\n",
      "9/9 - 0s - loss: 0.0388 - accuracy: 0.9965 - val_loss: 2.2688 - val_accuracy: 0.7531\n",
      "Epoch 47/50\n",
      "9/9 - 0s - loss: 0.0352 - accuracy: 0.9947 - val_loss: 2.4056 - val_accuracy: 0.7695\n",
      "Epoch 48/50\n",
      "9/9 - 0s - loss: 0.0468 - accuracy: 0.9938 - val_loss: 2.2896 - val_accuracy: 0.7778\n",
      "Epoch 49/50\n",
      "9/9 - 0s - loss: 0.0634 - accuracy: 0.9938 - val_loss: 2.0520 - val_accuracy: 0.7695\n",
      "Epoch 50/50\n",
      "9/9 - 0s - loss: 0.0241 - accuracy: 0.9947 - val_loss: 2.0818 - val_accuracy: 0.7819\n",
      "              precision    recall  f1-score   support\n",
      "\n",
      "           0       0.70      0.93      0.80        15\n",
      "           1       0.82      0.78      0.80        18\n",
      "           2       0.50      0.33      0.40         3\n",
      "           3       0.75      0.43      0.55         7\n",
      "           4       0.95      0.93      0.94       114\n",
      "           5       0.78      0.78      0.78         9\n",
      "           6       0.17      0.75      0.27         4\n",
      "           7       0.80      0.29      0.42        14\n",
      "           8       0.00      0.00      0.00         4\n",
      "           9       0.47      0.68      0.56        22\n",
      "          10       0.75      0.43      0.55         7\n",
      "          11       1.00      0.25      0.40         4\n",
      "          12       0.95      0.86      0.90        22\n",
      "\n",
      "    accuracy                           0.78       243\n",
      "   macro avg       0.66      0.57      0.57       243\n",
      "weighted avg       0.82      0.78      0.78       243\n",
      "\n"
     ]
    },
    {
     "name": "stderr",
     "output_type": "stream",
     "text": [
      "/opt/conda/lib/python3.9/site-packages/sklearn/metrics/_classification.py:1318: UndefinedMetricWarning: Precision and F-score are ill-defined and being set to 0.0 in labels with no predicted samples. Use `zero_division` parameter to control this behavior.\n",
      "  _warn_prf(average, modifier, msg_start, len(result))\n",
      "/opt/conda/lib/python3.9/site-packages/sklearn/metrics/_classification.py:1318: UndefinedMetricWarning: Precision and F-score are ill-defined and being set to 0.0 in labels with no predicted samples. Use `zero_division` parameter to control this behavior.\n",
      "  _warn_prf(average, modifier, msg_start, len(result))\n",
      "/opt/conda/lib/python3.9/site-packages/sklearn/metrics/_classification.py:1318: UndefinedMetricWarning: Precision and F-score are ill-defined and being set to 0.0 in labels with no predicted samples. Use `zero_division` parameter to control this behavior.\n",
      "  _warn_prf(average, modifier, msg_start, len(result))\n"
     ]
    }
   ],
   "source": [
    "from sklearn import metrics\n",
    "model_DNN = Build_Model_DNN_Text(X_train.shape[1], 13)\n",
    "model_DNN.fit(X_train, Y_train,\n",
    "                              validation_data=(X_test, Y_test),\n",
    "                              epochs=50,\n",
    "                              batch_size=128,\n",
    "                              verbose=2,\n",
    "                              class_weight=class_weights)\n",
    "                              #callbacks=[early_stopping])\n",
    "predicted = model_DNN.predict(X_test)\n",
    "Y_pred = np.argmax(predicted, axis=1)\n",
    "print(metrics.classification_report(Y_test, Y_pred))"
   ]
  },
  {
   "cell_type": "markdown",
   "id": "c3b1b126-a5c7-4caf-8a94-77ea31b690f1",
   "metadata": {
    "id": "c3b1b126-a5c7-4caf-8a94-77ea31b690f1"
   },
   "source": [
    "### Métricas"
   ]
  },
  {
   "cell_type": "code",
   "execution_count": 22,
   "id": "3810f4d0-4f8f-424e-b71c-9cd3fb09e71e",
   "metadata": {
    "executionInfo": {
     "elapsed": 387,
     "status": "ok",
     "timestamp": 1675097825090,
     "user": {
      "displayName": "Fábio Cordeiro",
      "userId": "00933077666862327455"
     },
     "user_tz": 180
    },
    "id": "3810f4d0-4f8f-424e-b71c-9cd3fb09e71e"
   },
   "outputs": [],
   "source": [
    "from sklearn.metrics import f1_score, roc_auc_score, accuracy_score, precision_score, recall_score, hamming_loss\n",
    "precision = precision_score(Y_test, Y_pred,average='micro')\n",
    "recall = recall_score(Y_test, Y_pred,average='micro')\n",
    "f1_micro_average = f1_score(y_true=Y_test, y_pred=Y_pred, average='micro')\n",
    "#roc_auc = roc_auc_score(Y_test, Y_pred, multi_class ='ovr', average = 'micro')\n",
    "accuracy = accuracy_score(Y_test, Y_pred)\n",
    "hloss = hamming_loss(Y_test, Y_pred)"
   ]
  },
  {
   "cell_type": "code",
   "execution_count": 23,
   "id": "503cc683",
   "metadata": {
    "colab": {
     "base_uri": "https://localhost:8080/"
    },
    "executionInfo": {
     "elapsed": 433,
     "status": "ok",
     "timestamp": 1675097833896,
     "user": {
      "displayName": "Fábio Cordeiro",
      "userId": "00933077666862327455"
     },
     "user_tz": 180
    },
    "id": "503cc683",
    "outputId": "6720b7f7-483b-4245-fa41-102ed3627d6c"
   },
   "outputs": [
    {
     "name": "stdout",
     "output_type": "stream",
     "text": [
      "Acurácia: 0.7818930041152263\n",
      "Precisão: 0.7818930041152263\n",
      "Recall: 0.7818930041152263\n",
      "F1: 0.7818930041152263\n",
      "Hamming Loss: 0.21810699588477367\n"
     ]
    }
   ],
   "source": [
    "print(\"Acurácia:\",accuracy)\n",
    "print(\"Precisão:\",precision)\n",
    "print(\"Recall:\",recall)\n",
    "print(\"F1:\",f1_micro_average)\n",
    "#print(\"Roc_auc:\",roc_auc)\n",
    "print(\"Hamming Loss:\",hloss)"
   ]
  },
  {
   "cell_type": "code",
   "execution_count": null,
   "id": "4871accb",
   "metadata": {},
   "outputs": [],
   "source": []
  }
 ],
 "metadata": {
  "colab": {
   "provenance": []
  },
  "kernelspec": {
   "display_name": "Python 3 (ipykernel)",
   "language": "python",
   "name": "python3"
  },
  "language_info": {
   "codemirror_mode": {
    "name": "ipython",
    "version": 3
   },
   "file_extension": ".py",
   "mimetype": "text/x-python",
   "name": "python",
   "nbconvert_exporter": "python",
   "pygments_lexer": "ipython3",
   "version": "3.9.7"
  }
 },
 "nbformat": 4,
 "nbformat_minor": 5
}
